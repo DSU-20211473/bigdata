{
 "cells": [
  {
   "cell_type": "markdown",
   "id": "a3ca8282",
   "metadata": {},
   "source": [
    "# 20211473 이동호 중간고사 실습과제 1번 (주문데이터 총 판매액수 상위 10개 품목)"
   ]
  },
  {
   "cell_type": "markdown",
   "id": "38c3de39",
   "metadata": {},
   "source": [
    "### Chipotle 데이터셋을 가져옵니다."
   ]
  },
  {
   "cell_type": "code",
   "execution_count": 1,
   "id": "7603c53e",
   "metadata": {},
   "outputs": [],
   "source": [
    "# -*- coding: utf-8 -*-\n",
    "\n",
    "import pandas as pd\n",
    "\n",
    "# read_csv 함수로 데이터를 Dataframe 형태로 불러옵니다.\n",
    "file_path = '../data/chipotle.tsv'\n",
    "chipo = pd.read_csv(file_path, sep = '\\t')"
   ]
  },
  {
   "cell_type": "code",
   "execution_count": 2,
   "id": "a25c169b",
   "metadata": {},
   "outputs": [],
   "source": [
    "chipo['order_id'] = chipo['order_id'].astype(str) # order_id는 숫자의 의미를 가지지 않기 때문에 str으로 변환합니다."
   ]
  },
  {
   "cell_type": "markdown",
   "id": "cb49558b",
   "metadata": {},
   "source": [
    "### apply()함수로 전처리를 수행하여 달러 표시를 제거합니다."
   ]
  },
  {
   "cell_type": "code",
   "execution_count": 3,
   "id": "c8a4f7b1",
   "metadata": {},
   "outputs": [
    {
     "data": {
      "text/html": [
       "<div>\n",
       "<style scoped>\n",
       "    .dataframe tbody tr th:only-of-type {\n",
       "        vertical-align: middle;\n",
       "    }\n",
       "\n",
       "    .dataframe tbody tr th {\n",
       "        vertical-align: top;\n",
       "    }\n",
       "\n",
       "    .dataframe thead th {\n",
       "        text-align: right;\n",
       "    }\n",
       "</style>\n",
       "<table border=\"1\" class=\"dataframe\">\n",
       "  <thead>\n",
       "    <tr style=\"text-align: right;\">\n",
       "      <th></th>\n",
       "      <th>quantity</th>\n",
       "      <th>item_price</th>\n",
       "    </tr>\n",
       "  </thead>\n",
       "  <tbody>\n",
       "    <tr>\n",
       "      <th>count</th>\n",
       "      <td>4622.000000</td>\n",
       "      <td>4622.000000</td>\n",
       "    </tr>\n",
       "    <tr>\n",
       "      <th>mean</th>\n",
       "      <td>1.075725</td>\n",
       "      <td>7.464336</td>\n",
       "    </tr>\n",
       "    <tr>\n",
       "      <th>std</th>\n",
       "      <td>0.410186</td>\n",
       "      <td>4.245557</td>\n",
       "    </tr>\n",
       "    <tr>\n",
       "      <th>min</th>\n",
       "      <td>1.000000</td>\n",
       "      <td>1.090000</td>\n",
       "    </tr>\n",
       "    <tr>\n",
       "      <th>25%</th>\n",
       "      <td>1.000000</td>\n",
       "      <td>3.390000</td>\n",
       "    </tr>\n",
       "    <tr>\n",
       "      <th>50%</th>\n",
       "      <td>1.000000</td>\n",
       "      <td>8.750000</td>\n",
       "    </tr>\n",
       "    <tr>\n",
       "      <th>75%</th>\n",
       "      <td>1.000000</td>\n",
       "      <td>9.250000</td>\n",
       "    </tr>\n",
       "    <tr>\n",
       "      <th>max</th>\n",
       "      <td>15.000000</td>\n",
       "      <td>44.250000</td>\n",
       "    </tr>\n",
       "  </tbody>\n",
       "</table>\n",
       "</div>"
      ],
      "text/plain": [
       "          quantity   item_price\n",
       "count  4622.000000  4622.000000\n",
       "mean      1.075725     7.464336\n",
       "std       0.410186     4.245557\n",
       "min       1.000000     1.090000\n",
       "25%       1.000000     3.390000\n",
       "50%       1.000000     8.750000\n",
       "75%       1.000000     9.250000\n",
       "max      15.000000    44.250000"
      ]
     },
     "execution_count": 3,
     "metadata": {},
     "output_type": "execute_result"
    }
   ],
   "source": [
    "# column 단위 데이터에 apply() 함수로 전처리를 적용합니다.\n",
    "chipo['item_price'] = chipo['item_price'].apply(lambda x: float(x[1:]))\n",
    "chipo.describe()"
   ]
  },
  {
   "cell_type": "markdown",
   "id": "ffb9e70b",
   "metadata": {},
   "source": [
    "### 아이템당 주문 개수를 구합니다."
   ]
  },
  {
   "cell_type": "code",
   "execution_count": 4,
   "id": "bef64355",
   "metadata": {},
   "outputs": [
    {
     "data": {
      "text/plain": [
       "item_name\n",
       "6 Pack Soft Drink         54\n",
       "Barbacoa Bowl             66\n",
       "Barbacoa Burrito          91\n",
       "Barbacoa Crispy Tacos     11\n",
       "Barbacoa Salad Bowl       10\n",
       "Barbacoa Soft Tacos       25\n",
       "Bottled Water            162\n",
       "Bowl                       2\n",
       "Burrito                    6\n",
       "Canned Soda              104\n",
       "Name: order_id, dtype: int64"
      ]
     },
     "execution_count": 4,
     "metadata": {},
     "output_type": "execute_result"
    }
   ],
   "source": [
    "# item당 주문 개수를 출력합니다.\n",
    "order_count = chipo.groupby('item_name')['order_id'].count()\n",
    "order_count[:10] # item당 주문 개수를 출력합니다."
   ]
  },
  {
   "cell_type": "markdown",
   "id": "23abbaf1",
   "metadata": {},
   "source": [
    "### 아이템당 주문 총량을 구합니다."
   ]
  },
  {
   "cell_type": "code",
   "execution_count": 5,
   "id": "432e1c02",
   "metadata": {},
   "outputs": [
    {
     "data": {
      "text/plain": [
       "item_name\n",
       "6 Pack Soft Drink         55\n",
       "Barbacoa Bowl             66\n",
       "Barbacoa Burrito          91\n",
       "Barbacoa Crispy Tacos     12\n",
       "Barbacoa Salad Bowl       10\n",
       "Barbacoa Soft Tacos       25\n",
       "Bottled Water            211\n",
       "Bowl                       4\n",
       "Burrito                    6\n",
       "Canned Soda              126\n",
       "Name: quantity, dtype: int64"
      ]
     },
     "execution_count": 5,
     "metadata": {},
     "output_type": "execute_result"
    }
   ],
   "source": [
    "# item당 주문 총량을 출력합니다.\n",
    "item_quantity = chipo.groupby('item_name')['quantity'].sum()\n",
    "item_quantity[:10] # item당 주문 총량을 출력합니다."
   ]
  },
  {
   "cell_type": "markdown",
   "id": "3d80db14",
   "metadata": {},
   "source": [
    "### 아이템당 총 판매액수를 구합니다."
   ]
  },
  {
   "cell_type": "markdown",
   "id": "7c6cfd70",
   "metadata": {},
   "source": [
    "#### groupby() 함수를 사용하여 판매량과 품목별 최대가격을 구하여 총 판매액수를 계산하였습니다."
   ]
  },
  {
   "cell_type": "code",
   "execution_count": 6,
   "id": "9a4975d0",
   "metadata": {},
   "outputs": [
    {
     "name": "stdout",
     "output_type": "stream",
     "text": [
      "item_name\n",
      "6 Pack Soft Drink                          700.92\n",
      "Barbacoa Bowl                              775.50\n",
      "Barbacoa Burrito                          1069.25\n",
      "Barbacoa Crispy Tacos                      203.50\n",
      "Barbacoa Salad Bowl                        118.90\n",
      "Barbacoa Soft Tacos                        293.75\n",
      "Bottled Water                             2430.00\n",
      "Bowl                                        44.40\n",
      "Burrito                                     44.40\n",
      "Canned Soda                                453.44\n",
      "Canned Soft Drink                         1505.00\n",
      "Carnitas Bowl                             2397.00\n",
      "Carnitas Burrito                          1091.50\n",
      "Carnitas Crispy Tacos                      125.86\n",
      "Carnitas Salad                               8.99\n",
      "Carnitas Salad Bowl                         71.34\n",
      "Carnitas Soft Tacos                        470.00\n",
      "Chicken Bowl                             23914.44\n",
      "Chicken Burrito                          19355.00\n",
      "Chicken Crispy Tacos                       822.50\n",
      "Chicken Salad                               98.82\n",
      "Chicken Salad Bowl                        2475.00\n",
      "Chicken Soft Tacos                        2525.40\n",
      "Chips                                     1360.95\n",
      "Chips and Fresh Tomato Salsa              4867.50\n",
      "Chips and Guacamole                       8526.20\n",
      "Chips and Mild Fresh Tomato Salsa            3.00\n",
      "Chips and Roasted Chili Corn Salsa         129.80\n",
      "Chips and Roasted Chili-Corn Salsa          43.02\n",
      "Chips and Tomatillo Green Chili Salsa      253.70\n",
      "Chips and Tomatillo Red Chili Salsa        283.20\n",
      "Chips and Tomatillo-Green Chili Salsa      148.18\n",
      "Chips and Tomatillo-Red Chili Salsa        143.40\n",
      "Crispy Tacos                                14.80\n",
      "Izze                                        67.80\n",
      "Nantucket Nectar                           183.06\n",
      "Salad                                       14.80\n",
      "Side of Chips                             1365.52\n",
      "Steak Bowl                                5500.77\n",
      "Steak Burrito                            10212.00\n",
      "Steak Crispy Tacos                         629.30\n",
      "Steak Salad                                 35.96\n",
      "Steak Salad Bowl                           689.62\n",
      "Steak Soft Tacos                          1017.50\n",
      "Veggie Bowl                               1443.30\n",
      "Veggie Burrito                            3206.25\n",
      "Veggie Crispy Tacos                          8.49\n",
      "Veggie Salad                                50.94\n",
      "Veggie Salad Bowl                          202.50\n",
      "Veggie Soft Tacos                          118.86\n",
      "dtype: float64\n"
     ]
    }
   ],
   "source": [
    "# 품목별 가격을 구하는 DataFrame 객체를 생성합니다.\n",
    "item_price = chipo.groupby('item_name')['item_price'].max()\n",
    "\n",
    "# 각 품목의 총 판매액수를 계산하는 객체를 생성합니다.\n",
    "total_price = order_count * item_price\n",
    "\n",
    "# 각 품목별 총 판매액수를 출력합니다.\n",
    "print(total_price)"
   ]
  },
  {
   "cell_type": "markdown",
   "id": "a4fb121b",
   "metadata": {},
   "source": [
    "### 각 품목별 총 판매액수가 가장높은 상위 10개의 품목을 출력합니다.\n",
    "#### sort_values() 함수를 사용하여 총 판매액수를 내림차순으로 정렬후 head()함수를 사용하여 10개를 출력합니다."
   ]
  },
  {
   "cell_type": "code",
   "execution_count": 7,
   "id": "f190d5f5",
   "metadata": {},
   "outputs": [
    {
     "name": "stdout",
     "output_type": "stream",
     "text": [
      "item_name\n",
      "Chicken Bowl                    23914.44\n",
      "Chicken Burrito                 19355.00\n",
      "Steak Burrito                   10212.00\n",
      "Chips and Guacamole              8526.20\n",
      "Steak Bowl                       5500.77\n",
      "Chips and Fresh Tomato Salsa     4867.50\n",
      "Veggie Burrito                   3206.25\n",
      "Chicken Soft Tacos               2525.40\n",
      "Chicken Salad Bowl               2475.00\n",
      "Bottled Water                    2430.00\n",
      "dtype: float64\n"
     ]
    }
   ],
   "source": [
    "# 총 판매액수 기준으로 데이터를 정렬합니다.\n",
    "total_price_sorted = total_price.sort_values(ascending=False)\n",
    "\n",
    "# 총 판매액수 상위 10개의 아이템을 출력합니다.\n",
    "print(total_price_sorted.head(10))"
   ]
  }
 ],
 "metadata": {
  "kernelspec": {
   "display_name": "Python 3 (ipykernel)",
   "language": "python",
   "name": "python3"
  },
  "language_info": {
   "codemirror_mode": {
    "name": "ipython",
    "version": 3
   },
   "file_extension": ".py",
   "mimetype": "text/x-python",
   "name": "python",
   "nbconvert_exporter": "python",
   "pygments_lexer": "ipython3",
   "version": "3.10.9"
  }
 },
 "nbformat": 4,
 "nbformat_minor": 5
}
