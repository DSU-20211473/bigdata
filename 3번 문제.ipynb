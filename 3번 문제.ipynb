{
 "cells": [
  {
   "cell_type": "markdown",
   "id": "42998bdf",
   "metadata": {},
   "source": [
    "# 20211473 이동호 중간고사 실습과제 3번 (프로야구 2017년 연봉 T-Test 검정)"
   ]
  },
  {
   "cell_type": "code",
   "execution_count": 4,
   "id": "82022653",
   "metadata": {},
   "outputs": [],
   "source": [
    "# -*- coding: utf-8 -*-\n",
    "\n",
    "%matplotlib inline\n",
    "\n",
    "import pandas as pd\n",
    "import numpy as np\n",
    "import matplotlib.pyplot as plt\n",
    "\n",
    "import warnings\n",
    "warnings.filterwarnings(\"ignore\")"
   ]
  },
  {
   "cell_type": "markdown",
   "id": "4e54244e",
   "metadata": {},
   "source": [
    "### [프로야구 연봉 데이터셋의 기본 정보 가져오기]"
   ]
  },
  {
   "cell_type": "code",
   "execution_count": 5,
   "id": "3235fed2",
   "metadata": {},
   "outputs": [],
   "source": [
    "# Data Source : http://www.statiz.co.kr/\n",
    "# 프로야구 연봉 데이터셋을 가져옵니다.\n",
    "\n",
    "picher_file_path = '../data/picher_stats_2017.csv'\n",
    "batter_file_path = '../data/batter_stats_2017.csv'\n",
    "picher = pd.read_csv(picher_file_path)\n",
    "batter = pd.read_csv(batter_file_path)"
   ]
  },
  {
   "cell_type": "code",
   "execution_count": 6,
   "id": "8b88da8f",
   "metadata": {},
   "outputs": [
    {
     "name": "stdout",
     "output_type": "stream",
     "text": [
      "Requirement already satisfied: scipy in /Users/idongho/anaconda3/lib/python3.10/site-packages (1.10.0)\r\n",
      "Requirement already satisfied: numpy<1.27.0,>=1.19.5 in /Users/idongho/anaconda3/lib/python3.10/site-packages (from scipy) (1.23.5)\r\n"
     ]
    }
   ],
   "source": [
    "# scipy 라이브러리를 설치합니다.\n",
    "!pip install scipy"
   ]
  },
  {
   "cell_type": "markdown",
   "id": "d9c051d9",
   "metadata": {},
   "source": [
    "### 다음 코드에선 scipy 라이브러리의 ttest_ind()함수를 사용하였습니다."
   ]
  },
  {
   "cell_type": "code",
   "execution_count": 7,
   "id": "f806c994",
   "metadata": {},
   "outputs": [
    {
     "name": "stdout",
     "output_type": "stream",
     "text": [
      "The t-statistic and p-value assuming equal variances is 1.087 and 0.284.\n",
      "The t-statistic and p-value not assuming equal variances is 1.109 and 0.275\n"
     ]
    }
   ],
   "source": [
    "# 한화와 SK팀간의 2017년 평균연봉간 유의미한 차이가 존재하는지 검정\n",
    "hh = picher.loc[picher['팀명']=='한화']\n",
    "sk = picher.loc[picher['팀명']=='SK']\n",
    "\n",
    "from scipy import stats\n",
    "tTestResult = stats.ttest_ind(hh['연봉(2017)'], sk['연봉(2017)'])\n",
    "tTestResultDiffVar = stats.ttest_ind(hh['연봉(2017)'], sk['연봉(2017)'], equal_var=False)\n",
    "\n",
    "print(\"The t-statistic and p-value assuming equal variances is %.3f and %.3f.\" % tTestResult)\n",
    "print(\"The t-statistic and p-value not assuming equal variances is %.3f and %.3f\" % tTestResultDiffVar)"
   ]
  },
  {
   "cell_type": "markdown",
   "id": "feda3b7b",
   "metadata": {},
   "source": [
    "### 계산 결과 p-value가 0.05보다 작기 때문에 두 집단 간 평균간에는 유의미한 차이가 존재합니다."
   ]
  }
 ],
 "metadata": {
  "kernelspec": {
   "display_name": "Python 3 (ipykernel)",
   "language": "python",
   "name": "python3"
  },
  "language_info": {
   "codemirror_mode": {
    "name": "ipython",
    "version": 3
   },
   "file_extension": ".py",
   "mimetype": "text/x-python",
   "name": "python",
   "nbconvert_exporter": "python",
   "pygments_lexer": "ipython3",
   "version": "3.10.9"
  }
 },
 "nbformat": 4,
 "nbformat_minor": 5
}
