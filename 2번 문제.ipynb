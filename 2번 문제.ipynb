{
 "cells": [
  {
   "cell_type": "markdown",
   "id": "be2e229b",
   "metadata": {},
   "source": [
    "# 20211473 이동호 중간고사 실습과제 2번 (유럽 맥주/와인 소비량 상관계수)"
   ]
  },
  {
   "cell_type": "markdown",
   "id": "87444aab",
   "metadata": {},
   "source": [
    "### Drinks 데이터셋의 기본정보를 불러옵니다."
   ]
  },
  {
   "cell_type": "code",
   "execution_count": 8,
   "id": "eed35f1d",
   "metadata": {},
   "outputs": [],
   "source": [
    "# -*- coding: utf-8 -*-\n",
    "\n",
    "import pandas as pd\n",
    "import numpy as np\n",
    "import matplotlib.pyplot as plt\n",
    "\n",
    "file_path = '../data/drinks.csv'\n",
    "drinks = pd.read_csv(file_path) # read_csv 함수로 데이터를 Dataframe 형태로 불러옵니다."
   ]
  },
  {
   "cell_type": "markdown",
   "id": "88f61e5d",
   "metadata": {},
   "source": [
    "## 유럽국가 한정 맥주와 와인간의 상관관계가 얼마나 되는지 피어슨 상관값을 구하기"
   ]
  },
  {
   "cell_type": "markdown",
   "id": "e0e14a65",
   "metadata": {},
   "source": [
    "### 다음 코드에서는 데이터셋에서 유럽한정 맥주/와인 소비량 데이터를 추출하는 코드를 작성했습니다."
   ]
  },
  {
   "cell_type": "code",
   "execution_count": 9,
   "id": "52fb10ff",
   "metadata": {},
   "outputs": [],
   "source": [
    "# 유럽국가 한정 맥주와 와인 소비량 데이터를 추출합니다. \n",
    "euro = drinks.loc[drinks['continent'] == 'EU', ['beer_servings', 'wine_servings']]"
   ]
  },
  {
   "cell_type": "markdown",
   "id": "f4976c3d",
   "metadata": {},
   "source": [
    "### 다음 코드에서는 corr()함수를 사용하여 맥주/와인 소비량 데이터에서 피어슨 상관값을 계산하는 코드를 작성했습니다."
   ]
  },
  {
   "cell_type": "code",
   "execution_count": 10,
   "id": "720e64bd",
   "metadata": {},
   "outputs": [
    {
     "name": "stdout",
     "output_type": "stream",
     "text": [
      "유럽 국가 한정 맥주와 와인 소비량의 피어슨 상관값: \n",
      "               beer_servings  wine_servings\n",
      "beer_servings       1.000000       0.297774\n",
      "wine_servings       0.297774       1.000000\n"
     ]
    }
   ],
   "source": [
    "# 유럽국가 한정 상관계수를 계산합니다.\n",
    "corr = euro.corr()\n",
    "\n",
    "# 피어슨 상관값 계산결과를 출력합니다.\n",
    "print(\"유럽 국가 한정 맥주와 와인 소비량의 피어슨 상관값: \")\n",
    "print(corr)"
   ]
  }
 ],
 "metadata": {
  "kernelspec": {
   "display_name": "Python 3 (ipykernel)",
   "language": "python",
   "name": "python3"
  },
  "language_info": {
   "codemirror_mode": {
    "name": "ipython",
    "version": 3
   },
   "file_extension": ".py",
   "mimetype": "text/x-python",
   "name": "python",
   "nbconvert_exporter": "python",
   "pygments_lexer": "ipython3",
   "version": "3.10.9"
  }
 },
 "nbformat": 4,
 "nbformat_minor": 5
}
